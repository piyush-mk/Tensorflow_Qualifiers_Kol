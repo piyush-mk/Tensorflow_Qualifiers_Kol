{
 "cells": [
  {
   "cell_type": "markdown",
   "source": [
    "2nd Iteration for Tensorflow Competition"
   ],
   "metadata": {
    "collapsed": false
   }
  },
  {
   "cell_type": "code",
   "execution_count": 5,
   "metadata": {
    "collapsed": true
   },
   "outputs": [],
   "source": [
    "import numpy as np\n",
    "import pandas as pd\n",
    "from sklearn.preprocessing import OrdinalEncoder,QuantileTransformer,StandardScaler\n",
    "from sklearn.model_selection import train_test_split\n",
    "from sklearn.pipeline import Pipeline\n",
    "from sklearn.compose import ColumnTransformer\n",
    "from catboost import CatBoostRegressor, Pool\n",
    "from sklearn.metrics import r2_score, mean_absolute_error, mean_squared_error, explained_variance_score"
   ]
  },
  {
   "cell_type": "code",
   "execution_count": 16,
   "outputs": [
    {
     "data": {
      "text/plain": "((300000, 25), (200000, 24))"
     },
     "execution_count": 16,
     "metadata": {},
     "output_type": "execute_result"
    }
   ],
   "source": [
    "train_df = pd.read_csv(\"../Dataset/train.csv\", index_col=0)\n",
    "test_df = pd.read_csv(\"../Dataset/test.csv\", index_col=0)\n",
    "train_df.shape, test_df.shape"
   ],
   "metadata": {
    "collapsed": false
   }
  },
  {
   "cell_type": "code",
   "execution_count": 17,
   "outputs": [
    {
     "data": {
      "text/plain": "       cont0     cont1     cont2     cont3     cont4     cont5     cont6  \\\nid                                                                         \n1   0.877618  0.724417  0.895799  0.421650  0.281421  0.124454  0.923191   \n2   0.326679  0.613252  0.593413  0.346230  0.282354  0.357438  0.437627   \n3   0.869133  0.264104  0.865620  0.369602  0.293756  0.454644  0.732209   \n4   0.809799  0.494269  0.868099  0.578930  0.769785  0.153735  0.705142   \n6   0.343457  0.724447  0.440967  0.705940  0.279105  0.496212  0.486063   \n\n       cont7     cont8     cont9  ...  cat1  cat2  cat3  cat4 cat5 cat6 cat7  \\\nid                                ...                                          \n1   0.719903  0.701915  0.802461  ...     A     B     A     A    I    E    D   \n2   0.808464  0.741289  0.546056  ...     A     B     A     B    F    E    B   \n3   0.828352  0.695561  0.825251  ...     A     B     A     A    N    B    D   \n4   0.614766  0.698125  0.794402  ...     A     B     A     A    K    E    D   \n6   0.297743  0.683073  0.462146  ...     A     B     A     A    F    E    B   \n\n   cat8 cat9    target  \nid                      \n1     A    B  6.994023  \n2     A    A  8.071256  \n3     C    A  5.760456  \n4     C    A  7.806457  \n6     A    B  6.868974  \n\n[5 rows x 25 columns]",
      "text/html": "<div>\n<style scoped>\n    .dataframe tbody tr th:only-of-type {\n        vertical-align: middle;\n    }\n\n    .dataframe tbody tr th {\n        vertical-align: top;\n    }\n\n    .dataframe thead th {\n        text-align: right;\n    }\n</style>\n<table border=\"1\" class=\"dataframe\">\n  <thead>\n    <tr style=\"text-align: right;\">\n      <th></th>\n      <th>cont0</th>\n      <th>cont1</th>\n      <th>cont2</th>\n      <th>cont3</th>\n      <th>cont4</th>\n      <th>cont5</th>\n      <th>cont6</th>\n      <th>cont7</th>\n      <th>cont8</th>\n      <th>cont9</th>\n      <th>...</th>\n      <th>cat1</th>\n      <th>cat2</th>\n      <th>cat3</th>\n      <th>cat4</th>\n      <th>cat5</th>\n      <th>cat6</th>\n      <th>cat7</th>\n      <th>cat8</th>\n      <th>cat9</th>\n      <th>target</th>\n    </tr>\n    <tr>\n      <th>id</th>\n      <th></th>\n      <th></th>\n      <th></th>\n      <th></th>\n      <th></th>\n      <th></th>\n      <th></th>\n      <th></th>\n      <th></th>\n      <th></th>\n      <th></th>\n      <th></th>\n      <th></th>\n      <th></th>\n      <th></th>\n      <th></th>\n      <th></th>\n      <th></th>\n      <th></th>\n      <th></th>\n      <th></th>\n    </tr>\n  </thead>\n  <tbody>\n    <tr>\n      <th>1</th>\n      <td>0.877618</td>\n      <td>0.724417</td>\n      <td>0.895799</td>\n      <td>0.421650</td>\n      <td>0.281421</td>\n      <td>0.124454</td>\n      <td>0.923191</td>\n      <td>0.719903</td>\n      <td>0.701915</td>\n      <td>0.802461</td>\n      <td>...</td>\n      <td>A</td>\n      <td>B</td>\n      <td>A</td>\n      <td>A</td>\n      <td>I</td>\n      <td>E</td>\n      <td>D</td>\n      <td>A</td>\n      <td>B</td>\n      <td>6.994023</td>\n    </tr>\n    <tr>\n      <th>2</th>\n      <td>0.326679</td>\n      <td>0.613252</td>\n      <td>0.593413</td>\n      <td>0.346230</td>\n      <td>0.282354</td>\n      <td>0.357438</td>\n      <td>0.437627</td>\n      <td>0.808464</td>\n      <td>0.741289</td>\n      <td>0.546056</td>\n      <td>...</td>\n      <td>A</td>\n      <td>B</td>\n      <td>A</td>\n      <td>B</td>\n      <td>F</td>\n      <td>E</td>\n      <td>B</td>\n      <td>A</td>\n      <td>A</td>\n      <td>8.071256</td>\n    </tr>\n    <tr>\n      <th>3</th>\n      <td>0.869133</td>\n      <td>0.264104</td>\n      <td>0.865620</td>\n      <td>0.369602</td>\n      <td>0.293756</td>\n      <td>0.454644</td>\n      <td>0.732209</td>\n      <td>0.828352</td>\n      <td>0.695561</td>\n      <td>0.825251</td>\n      <td>...</td>\n      <td>A</td>\n      <td>B</td>\n      <td>A</td>\n      <td>A</td>\n      <td>N</td>\n      <td>B</td>\n      <td>D</td>\n      <td>C</td>\n      <td>A</td>\n      <td>5.760456</td>\n    </tr>\n    <tr>\n      <th>4</th>\n      <td>0.809799</td>\n      <td>0.494269</td>\n      <td>0.868099</td>\n      <td>0.578930</td>\n      <td>0.769785</td>\n      <td>0.153735</td>\n      <td>0.705142</td>\n      <td>0.614766</td>\n      <td>0.698125</td>\n      <td>0.794402</td>\n      <td>...</td>\n      <td>A</td>\n      <td>B</td>\n      <td>A</td>\n      <td>A</td>\n      <td>K</td>\n      <td>E</td>\n      <td>D</td>\n      <td>C</td>\n      <td>A</td>\n      <td>7.806457</td>\n    </tr>\n    <tr>\n      <th>6</th>\n      <td>0.343457</td>\n      <td>0.724447</td>\n      <td>0.440967</td>\n      <td>0.705940</td>\n      <td>0.279105</td>\n      <td>0.496212</td>\n      <td>0.486063</td>\n      <td>0.297743</td>\n      <td>0.683073</td>\n      <td>0.462146</td>\n      <td>...</td>\n      <td>A</td>\n      <td>B</td>\n      <td>A</td>\n      <td>A</td>\n      <td>F</td>\n      <td>E</td>\n      <td>B</td>\n      <td>A</td>\n      <td>B</td>\n      <td>6.868974</td>\n    </tr>\n  </tbody>\n</table>\n<p>5 rows × 25 columns</p>\n</div>"
     },
     "execution_count": 17,
     "metadata": {},
     "output_type": "execute_result"
    }
   ],
   "source": [
    "train_df.head()"
   ],
   "metadata": {
    "collapsed": false
   }
  },
  {
   "cell_type": "code",
   "execution_count": 18,
   "outputs": [
    {
     "data": {
      "text/plain": "       cont0     cont1     cont2     cont3     cont4     cont5     cont6  \\\nid                                                                         \n0   0.653654  0.285147  0.202234  0.286912  0.701679  0.486284  0.331261   \n5   0.318492  0.562065  0.857073  0.397436  0.277480  0.296852  0.402404   \n15  0.333572  0.836193  0.586934  0.695284  0.279508  0.760865  0.530677   \n16  0.589080  0.414131  0.442475  0.240049  0.479503  0.715786  0.439653   \n17  0.285860  0.710961  0.170475  0.329851  0.757845  0.315269  0.389844   \n\n       cont7     cont8     cont9  ...  cat0  cat1  cat2  cat3 cat4 cat5 cat6  \\\nid                                ...                                          \n0   0.302448  0.264308  0.242654  ...     E     A     B     A    A    G    E   \n5   0.736251  0.730542  0.516393  ...     C     A     B     A    A    L    E   \n15  0.273905  0.759788  0.548555  ...     C     A     B     A    A    F    E   \n16  0.311625  0.255382  0.596746  ...     E     A     B     B    A    F    E   \n17  0.794931  0.224045  0.263235  ...     E     A     B     A    A    I    E   \n\n   cat7 cat8 cat9  \nid                 \n0     D    C    B  \n5     D    C    B  \n15    D    C    B  \n16    D    A    A  \n17    B    A    B  \n\n[5 rows x 24 columns]",
      "text/html": "<div>\n<style scoped>\n    .dataframe tbody tr th:only-of-type {\n        vertical-align: middle;\n    }\n\n    .dataframe tbody tr th {\n        vertical-align: top;\n    }\n\n    .dataframe thead th {\n        text-align: right;\n    }\n</style>\n<table border=\"1\" class=\"dataframe\">\n  <thead>\n    <tr style=\"text-align: right;\">\n      <th></th>\n      <th>cont0</th>\n      <th>cont1</th>\n      <th>cont2</th>\n      <th>cont3</th>\n      <th>cont4</th>\n      <th>cont5</th>\n      <th>cont6</th>\n      <th>cont7</th>\n      <th>cont8</th>\n      <th>cont9</th>\n      <th>...</th>\n      <th>cat0</th>\n      <th>cat1</th>\n      <th>cat2</th>\n      <th>cat3</th>\n      <th>cat4</th>\n      <th>cat5</th>\n      <th>cat6</th>\n      <th>cat7</th>\n      <th>cat8</th>\n      <th>cat9</th>\n    </tr>\n    <tr>\n      <th>id</th>\n      <th></th>\n      <th></th>\n      <th></th>\n      <th></th>\n      <th></th>\n      <th></th>\n      <th></th>\n      <th></th>\n      <th></th>\n      <th></th>\n      <th></th>\n      <th></th>\n      <th></th>\n      <th></th>\n      <th></th>\n      <th></th>\n      <th></th>\n      <th></th>\n      <th></th>\n      <th></th>\n      <th></th>\n    </tr>\n  </thead>\n  <tbody>\n    <tr>\n      <th>0</th>\n      <td>0.653654</td>\n      <td>0.285147</td>\n      <td>0.202234</td>\n      <td>0.286912</td>\n      <td>0.701679</td>\n      <td>0.486284</td>\n      <td>0.331261</td>\n      <td>0.302448</td>\n      <td>0.264308</td>\n      <td>0.242654</td>\n      <td>...</td>\n      <td>E</td>\n      <td>A</td>\n      <td>B</td>\n      <td>A</td>\n      <td>A</td>\n      <td>G</td>\n      <td>E</td>\n      <td>D</td>\n      <td>C</td>\n      <td>B</td>\n    </tr>\n    <tr>\n      <th>5</th>\n      <td>0.318492</td>\n      <td>0.562065</td>\n      <td>0.857073</td>\n      <td>0.397436</td>\n      <td>0.277480</td>\n      <td>0.296852</td>\n      <td>0.402404</td>\n      <td>0.736251</td>\n      <td>0.730542</td>\n      <td>0.516393</td>\n      <td>...</td>\n      <td>C</td>\n      <td>A</td>\n      <td>B</td>\n      <td>A</td>\n      <td>A</td>\n      <td>L</td>\n      <td>E</td>\n      <td>D</td>\n      <td>C</td>\n      <td>B</td>\n    </tr>\n    <tr>\n      <th>15</th>\n      <td>0.333572</td>\n      <td>0.836193</td>\n      <td>0.586934</td>\n      <td>0.695284</td>\n      <td>0.279508</td>\n      <td>0.760865</td>\n      <td>0.530677</td>\n      <td>0.273905</td>\n      <td>0.759788</td>\n      <td>0.548555</td>\n      <td>...</td>\n      <td>C</td>\n      <td>A</td>\n      <td>B</td>\n      <td>A</td>\n      <td>A</td>\n      <td>F</td>\n      <td>E</td>\n      <td>D</td>\n      <td>C</td>\n      <td>B</td>\n    </tr>\n    <tr>\n      <th>16</th>\n      <td>0.589080</td>\n      <td>0.414131</td>\n      <td>0.442475</td>\n      <td>0.240049</td>\n      <td>0.479503</td>\n      <td>0.715786</td>\n      <td>0.439653</td>\n      <td>0.311625</td>\n      <td>0.255382</td>\n      <td>0.596746</td>\n      <td>...</td>\n      <td>E</td>\n      <td>A</td>\n      <td>B</td>\n      <td>B</td>\n      <td>A</td>\n      <td>F</td>\n      <td>E</td>\n      <td>D</td>\n      <td>A</td>\n      <td>A</td>\n    </tr>\n    <tr>\n      <th>17</th>\n      <td>0.285860</td>\n      <td>0.710961</td>\n      <td>0.170475</td>\n      <td>0.329851</td>\n      <td>0.757845</td>\n      <td>0.315269</td>\n      <td>0.389844</td>\n      <td>0.794931</td>\n      <td>0.224045</td>\n      <td>0.263235</td>\n      <td>...</td>\n      <td>E</td>\n      <td>A</td>\n      <td>B</td>\n      <td>A</td>\n      <td>A</td>\n      <td>I</td>\n      <td>E</td>\n      <td>B</td>\n      <td>A</td>\n      <td>B</td>\n    </tr>\n  </tbody>\n</table>\n<p>5 rows × 24 columns</p>\n</div>"
     },
     "execution_count": 18,
     "metadata": {},
     "output_type": "execute_result"
    }
   ],
   "source": [
    "test_df.head()\n"
   ],
   "metadata": {
    "collapsed": false
   }
  },
  {
   "cell_type": "code",
   "execution_count": null,
   "outputs": [],
   "source": [],
   "metadata": {
    "collapsed": false
   }
  }
 ],
 "metadata": {
  "kernelspec": {
   "display_name": "Python 3",
   "language": "python",
   "name": "python3"
  },
  "language_info": {
   "codemirror_mode": {
    "name": "ipython",
    "version": 2
   },
   "file_extension": ".py",
   "mimetype": "text/x-python",
   "name": "python",
   "nbconvert_exporter": "python",
   "pygments_lexer": "ipython2",
   "version": "2.7.6"
  }
 },
 "nbformat": 4,
 "nbformat_minor": 0
}
