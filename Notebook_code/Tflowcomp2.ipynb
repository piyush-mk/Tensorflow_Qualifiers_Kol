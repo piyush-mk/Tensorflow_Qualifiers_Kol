{
 "cells": [
  {
   "cell_type": "markdown",
   "source": [
    "2nd Iteration for Tensorflow Competition"
   ],
   "metadata": {
    "collapsed": false
   }
  },
  {
   "cell_type": "code",
   "execution_count": 5,
   "metadata": {
    "collapsed": true
   },
   "outputs": [],
   "source": [
    "import numpy as np\n",
    "import pandas as pd\n",
    "from sklearn.preprocessing import OrdinalEncoder,QuantileTransformer,StandardScaler\n",
    "from sklearn.model_selection import train_test_split\n",
    "from sklearn.pipeline import Pipeline\n",
    "from sklearn.compose import ColumnTransformer\n",
    "from catboost import CatBoostRegressor, Pool\n",
    "from sklearn.metrics import r2_score, mean_absolute_error, mean_squared_error, explained_variance_score"
   ]
  },
  {
   "cell_type": "code",
   "execution_count": 16,
   "outputs": [
    {
     "data": {
      "text/plain": "((300000, 25), (200000, 24))"
     },
     "execution_count": 16,
     "metadata": {},
     "output_type": "execute_result"
    }
   ],
   "source": [
    "train_df = pd.read_csv(\"../Dataset/train.csv\", index_col=0)\n",
    "test_df = pd.read_csv(\"../Dataset/test.csv\", index_col=0)\n",
    "train_df.shape, test_df.shape"
   ],
   "metadata": {
    "collapsed": false
   }
  },
  {
   "cell_type": "code",
   "execution_count": 17,
   "outputs": [
    {
     "data": {
      "text/plain": "       cont0     cont1     cont2     cont3     cont4     cont5     cont6  \\\nid                                                                         \n1   0.877618  0.724417  0.895799  0.421650  0.281421  0.124454  0.923191   \n2   0.326679  0.613252  0.593413  0.346230  0.282354  0.357438  0.437627   \n3   0.869133  0.264104  0.865620  0.369602  0.293756  0.454644  0.732209   \n4   0.809799  0.494269  0.868099  0.578930  0.769785  0.153735  0.705142   \n6   0.343457  0.724447  0.440967  0.705940  0.279105  0.496212  0.486063   \n\n       cont7     cont8     cont9  ...  cat1  cat2  cat3  cat4 cat5 cat6 cat7  \\\nid                                ...                                          \n1   0.719903  0.701915  0.802461  ...     A     B     A     A    I    E    D   \n2   0.808464  0.741289  0.546056  ...     A     B     A     B    F    E    B   \n3   0.828352  0.695561  0.825251  ...     A     B     A     A    N    B    D   \n4   0.614766  0.698125  0.794402  ...     A     B     A     A    K    E    D   \n6   0.297743  0.683073  0.462146  ...     A     B     A     A    F    E    B   \n\n   cat8 cat9    target  \nid                      \n1     A    B  6.994023  \n2     A    A  8.071256  \n3     C    A  5.760456  \n4     C    A  7.806457  \n6     A    B  6.868974  \n\n[5 rows x 25 columns]",
      "text/html": "<div>\n<style scoped>\n    .dataframe tbody tr th:only-of-type {\n        vertical-align: middle;\n    }\n\n    .dataframe tbody tr th {\n        vertical-align: top;\n    }\n\n    .dataframe thead th {\n        text-align: right;\n    }\n</style>\n<table border=\"1\" class=\"dataframe\">\n  <thead>\n    <tr style=\"text-align: right;\">\n      <th></th>\n      <th>cont0</th>\n      <th>cont1</th>\n      <th>cont2</th>\n      <th>cont3</th>\n      <th>cont4</th>\n      <th>cont5</th>\n      <th>cont6</th>\n      <th>cont7</th>\n      <th>cont8</th>\n      <th>cont9</th>\n      <th>...</th>\n      <th>cat1</th>\n      <th>cat2</th>\n      <th>cat3</th>\n      <th>cat4</th>\n      <th>cat5</th>\n      <th>cat6</th>\n      <th>cat7</th>\n      <th>cat8</th>\n      <th>cat9</th>\n      <th>target</th>\n    </tr>\n    <tr>\n      <th>id</th>\n      <th></th>\n      <th></th>\n      <th></th>\n      <th></th>\n      <th></th>\n      <th></th>\n      <th></th>\n      <th></th>\n      <th></th>\n      <th></th>\n      <th></th>\n      <th></th>\n      <th></th>\n      <th></th>\n      <th></th>\n      <th></th>\n      <th></th>\n      <th></th>\n      <th></th>\n      <th></th>\n      <th></th>\n    </tr>\n  </thead>\n  <tbody>\n    <tr>\n      <th>1</th>\n      <td>0.877618</td>\n      <td>0.724417</td>\n      <td>0.895799</td>\n      <td>0.421650</td>\n      <td>0.281421</td>\n      <td>0.124454</td>\n      <td>0.923191</td>\n      <td>0.719903</td>\n      <td>0.701915</td>\n      <td>0.802461</td>\n      <td>...</td>\n      <td>A</td>\n      <td>B</td>\n      <td>A</td>\n      <td>A</td>\n      <td>I</td>\n      <td>E</td>\n      <td>D</td>\n      <td>A</td>\n      <td>B</td>\n      <td>6.994023</td>\n    </tr>\n    <tr>\n      <th>2</th>\n      <td>0.326679</td>\n      <td>0.613252</td>\n      <td>0.593413</td>\n      <td>0.346230</td>\n      <td>0.282354</td>\n      <td>0.357438</td>\n      <td>0.437627</td>\n      <td>0.808464</td>\n      <td>0.741289</td>\n      <td>0.546056</td>\n      <td>...</td>\n      <td>A</td>\n      <td>B</td>\n      <td>A</td>\n      <td>B</td>\n      <td>F</td>\n      <td>E</td>\n      <td>B</td>\n      <td>A</td>\n      <td>A</td>\n      <td>8.071256</td>\n    </tr>\n    <tr>\n      <th>3</th>\n      <td>0.869133</td>\n      <td>0.264104</td>\n      <td>0.865620</td>\n      <td>0.369602</td>\n      <td>0.293756</td>\n      <td>0.454644</td>\n      <td>0.732209</td>\n      <td>0.828352</td>\n      <td>0.695561</td>\n      <td>0.825251</td>\n      <td>...</td>\n      <td>A</td>\n      <td>B</td>\n      <td>A</td>\n      <td>A</td>\n      <td>N</td>\n      <td>B</td>\n      <td>D</td>\n      <td>C</td>\n      <td>A</td>\n      <td>5.760456</td>\n    </tr>\n    <tr>\n      <th>4</th>\n      <td>0.809799</td>\n      <td>0.494269</td>\n      <td>0.868099</td>\n      <td>0.578930</td>\n      <td>0.769785</td>\n      <td>0.153735</td>\n      <td>0.705142</td>\n      <td>0.614766</td>\n      <td>0.698125</td>\n      <td>0.794402</td>\n      <td>...</td>\n      <td>A</td>\n      <td>B</td>\n      <td>A</td>\n      <td>A</td>\n      <td>K</td>\n      <td>E</td>\n      <td>D</td>\n      <td>C</td>\n      <td>A</td>\n      <td>7.806457</td>\n    </tr>\n    <tr>\n      <th>6</th>\n      <td>0.343457</td>\n      <td>0.724447</td>\n      <td>0.440967</td>\n      <td>0.705940</td>\n      <td>0.279105</td>\n      <td>0.496212</td>\n      <td>0.486063</td>\n      <td>0.297743</td>\n      <td>0.683073</td>\n      <td>0.462146</td>\n      <td>...</td>\n      <td>A</td>\n      <td>B</td>\n      <td>A</td>\n      <td>A</td>\n      <td>F</td>\n      <td>E</td>\n      <td>B</td>\n      <td>A</td>\n      <td>B</td>\n      <td>6.868974</td>\n    </tr>\n  </tbody>\n</table>\n<p>5 rows × 25 columns</p>\n</div>"
     },
     "execution_count": 17,
     "metadata": {},
     "output_type": "execute_result"
    }
   ],
   "source": [
    "train_df.head()"
   ],
   "metadata": {
    "collapsed": false
   }
  },
  {
   "cell_type": "code",
   "execution_count": 18,
   "outputs": [
    {
     "data": {
      "text/plain": "       cont0     cont1     cont2     cont3     cont4     cont5     cont6  \\\nid                                                                         \n0   0.653654  0.285147  0.202234  0.286912  0.701679  0.486284  0.331261   \n5   0.318492  0.562065  0.857073  0.397436  0.277480  0.296852  0.402404   \n15  0.333572  0.836193  0.586934  0.695284  0.279508  0.760865  0.530677   \n16  0.589080  0.414131  0.442475  0.240049  0.479503  0.715786  0.439653   \n17  0.285860  0.710961  0.170475  0.329851  0.757845  0.315269  0.389844   \n\n       cont7     cont8     cont9  ...  cat0  cat1  cat2  cat3 cat4 cat5 cat6  \\\nid                                ...                                          \n0   0.302448  0.264308  0.242654  ...     E     A     B     A    A    G    E   \n5   0.736251  0.730542  0.516393  ...     C     A     B     A    A    L    E   \n15  0.273905  0.759788  0.548555  ...     C     A     B     A    A    F    E   \n16  0.311625  0.255382  0.596746  ...     E     A     B     B    A    F    E   \n17  0.794931  0.224045  0.263235  ...     E     A     B     A    A    I    E   \n\n   cat7 cat8 cat9  \nid                 \n0     D    C    B  \n5     D    C    B  \n15    D    C    B  \n16    D    A    A  \n17    B    A    B  \n\n[5 rows x 24 columns]",
      "text/html": "<div>\n<style scoped>\n    .dataframe tbody tr th:only-of-type {\n        vertical-align: middle;\n    }\n\n    .dataframe tbody tr th {\n        vertical-align: top;\n    }\n\n    .dataframe thead th {\n        text-align: right;\n    }\n</style>\n<table border=\"1\" class=\"dataframe\">\n  <thead>\n    <tr style=\"text-align: right;\">\n      <th></th>\n      <th>cont0</th>\n      <th>cont1</th>\n      <th>cont2</th>\n      <th>cont3</th>\n      <th>cont4</th>\n      <th>cont5</th>\n      <th>cont6</th>\n      <th>cont7</th>\n      <th>cont8</th>\n      <th>cont9</th>\n      <th>...</th>\n      <th>cat0</th>\n      <th>cat1</th>\n      <th>cat2</th>\n      <th>cat3</th>\n      <th>cat4</th>\n      <th>cat5</th>\n      <th>cat6</th>\n      <th>cat7</th>\n      <th>cat8</th>\n      <th>cat9</th>\n    </tr>\n    <tr>\n      <th>id</th>\n      <th></th>\n      <th></th>\n      <th></th>\n      <th></th>\n      <th></th>\n      <th></th>\n      <th></th>\n      <th></th>\n      <th></th>\n      <th></th>\n      <th></th>\n      <th></th>\n      <th></th>\n      <th></th>\n      <th></th>\n      <th></th>\n      <th></th>\n      <th></th>\n      <th></th>\n      <th></th>\n      <th></th>\n    </tr>\n  </thead>\n  <tbody>\n    <tr>\n      <th>0</th>\n      <td>0.653654</td>\n      <td>0.285147</td>\n      <td>0.202234</td>\n      <td>0.286912</td>\n      <td>0.701679</td>\n      <td>0.486284</td>\n      <td>0.331261</td>\n      <td>0.302448</td>\n      <td>0.264308</td>\n      <td>0.242654</td>\n      <td>...</td>\n      <td>E</td>\n      <td>A</td>\n      <td>B</td>\n      <td>A</td>\n      <td>A</td>\n      <td>G</td>\n      <td>E</td>\n      <td>D</td>\n      <td>C</td>\n      <td>B</td>\n    </tr>\n    <tr>\n      <th>5</th>\n      <td>0.318492</td>\n      <td>0.562065</td>\n      <td>0.857073</td>\n      <td>0.397436</td>\n      <td>0.277480</td>\n      <td>0.296852</td>\n      <td>0.402404</td>\n      <td>0.736251</td>\n      <td>0.730542</td>\n      <td>0.516393</td>\n      <td>...</td>\n      <td>C</td>\n      <td>A</td>\n      <td>B</td>\n      <td>A</td>\n      <td>A</td>\n      <td>L</td>\n      <td>E</td>\n      <td>D</td>\n      <td>C</td>\n      <td>B</td>\n    </tr>\n    <tr>\n      <th>15</th>\n      <td>0.333572</td>\n      <td>0.836193</td>\n      <td>0.586934</td>\n      <td>0.695284</td>\n      <td>0.279508</td>\n      <td>0.760865</td>\n      <td>0.530677</td>\n      <td>0.273905</td>\n      <td>0.759788</td>\n      <td>0.548555</td>\n      <td>...</td>\n      <td>C</td>\n      <td>A</td>\n      <td>B</td>\n      <td>A</td>\n      <td>A</td>\n      <td>F</td>\n      <td>E</td>\n      <td>D</td>\n      <td>C</td>\n      <td>B</td>\n    </tr>\n    <tr>\n      <th>16</th>\n      <td>0.589080</td>\n      <td>0.414131</td>\n      <td>0.442475</td>\n      <td>0.240049</td>\n      <td>0.479503</td>\n      <td>0.715786</td>\n      <td>0.439653</td>\n      <td>0.311625</td>\n      <td>0.255382</td>\n      <td>0.596746</td>\n      <td>...</td>\n      <td>E</td>\n      <td>A</td>\n      <td>B</td>\n      <td>B</td>\n      <td>A</td>\n      <td>F</td>\n      <td>E</td>\n      <td>D</td>\n      <td>A</td>\n      <td>A</td>\n    </tr>\n    <tr>\n      <th>17</th>\n      <td>0.285860</td>\n      <td>0.710961</td>\n      <td>0.170475</td>\n      <td>0.329851</td>\n      <td>0.757845</td>\n      <td>0.315269</td>\n      <td>0.389844</td>\n      <td>0.794931</td>\n      <td>0.224045</td>\n      <td>0.263235</td>\n      <td>...</td>\n      <td>E</td>\n      <td>A</td>\n      <td>B</td>\n      <td>A</td>\n      <td>A</td>\n      <td>I</td>\n      <td>E</td>\n      <td>B</td>\n      <td>A</td>\n      <td>B</td>\n    </tr>\n  </tbody>\n</table>\n<p>5 rows × 24 columns</p>\n</div>"
     },
     "execution_count": 18,
     "metadata": {},
     "output_type": "execute_result"
    }
   ],
   "source": [
    "test_df.head()\n"
   ],
   "metadata": {
    "collapsed": false
   }
  },
  {
   "cell_type": "code",
   "execution_count": 22,
   "outputs": [
    {
     "data": {
      "text/plain": "id             1         2         3         4         6\ncont0   0.877618  0.326679  0.869133  0.809799  0.343457\ncont1   0.724417  0.613252  0.264104  0.494269  0.724447\ncont2   0.895799  0.593413   0.86562  0.868099  0.440967\ncont3    0.42165   0.34623  0.369602   0.57893   0.70594\ncont4   0.281421  0.282354  0.293756  0.769785  0.279105\ncont5   0.124454  0.357438  0.454644  0.153735  0.496212\ncont6   0.923191  0.437627  0.732209  0.705142  0.486063\ncont7   0.719903  0.808464  0.828352  0.614766  0.297743\ncont8   0.701915  0.741289  0.695561  0.698125  0.683073\ncont9   0.802461  0.546056  0.825251  0.794402  0.462146\ncont10  0.741413  0.278495  0.832564  0.407313  0.325193\ncont11  0.881122  0.440011  0.914155  0.934138    0.3826\ncont12  0.217886  0.846127   0.81299  0.732893  0.354186\ncont13  0.684968  0.014213  0.760122  0.771678  0.639349\ncat0           C         A         C         G         C\ncat1           A         A         A         A         A\ncat2           B         B         B         B         B\ncat3           A         A         A         A         A\ncat4           A         B         A         A         A\ncat5           I         F         N         K         F\ncat6           E         E         B         E         E\ncat7           D         B         D         D         B\ncat8           A         A         C         C         A\ncat9           B         A         A         A         B",
      "text/html": "<div>\n<style scoped>\n    .dataframe tbody tr th:only-of-type {\n        vertical-align: middle;\n    }\n\n    .dataframe tbody tr th {\n        vertical-align: top;\n    }\n\n    .dataframe thead th {\n        text-align: right;\n    }\n</style>\n<table border=\"1\" class=\"dataframe\">\n  <thead>\n    <tr style=\"text-align: right;\">\n      <th>id</th>\n      <th>1</th>\n      <th>2</th>\n      <th>3</th>\n      <th>4</th>\n      <th>6</th>\n    </tr>\n  </thead>\n  <tbody>\n    <tr>\n      <th>cont0</th>\n      <td>0.877618</td>\n      <td>0.326679</td>\n      <td>0.869133</td>\n      <td>0.809799</td>\n      <td>0.343457</td>\n    </tr>\n    <tr>\n      <th>cont1</th>\n      <td>0.724417</td>\n      <td>0.613252</td>\n      <td>0.264104</td>\n      <td>0.494269</td>\n      <td>0.724447</td>\n    </tr>\n    <tr>\n      <th>cont2</th>\n      <td>0.895799</td>\n      <td>0.593413</td>\n      <td>0.86562</td>\n      <td>0.868099</td>\n      <td>0.440967</td>\n    </tr>\n    <tr>\n      <th>cont3</th>\n      <td>0.42165</td>\n      <td>0.34623</td>\n      <td>0.369602</td>\n      <td>0.57893</td>\n      <td>0.70594</td>\n    </tr>\n    <tr>\n      <th>cont4</th>\n      <td>0.281421</td>\n      <td>0.282354</td>\n      <td>0.293756</td>\n      <td>0.769785</td>\n      <td>0.279105</td>\n    </tr>\n    <tr>\n      <th>cont5</th>\n      <td>0.124454</td>\n      <td>0.357438</td>\n      <td>0.454644</td>\n      <td>0.153735</td>\n      <td>0.496212</td>\n    </tr>\n    <tr>\n      <th>cont6</th>\n      <td>0.923191</td>\n      <td>0.437627</td>\n      <td>0.732209</td>\n      <td>0.705142</td>\n      <td>0.486063</td>\n    </tr>\n    <tr>\n      <th>cont7</th>\n      <td>0.719903</td>\n      <td>0.808464</td>\n      <td>0.828352</td>\n      <td>0.614766</td>\n      <td>0.297743</td>\n    </tr>\n    <tr>\n      <th>cont8</th>\n      <td>0.701915</td>\n      <td>0.741289</td>\n      <td>0.695561</td>\n      <td>0.698125</td>\n      <td>0.683073</td>\n    </tr>\n    <tr>\n      <th>cont9</th>\n      <td>0.802461</td>\n      <td>0.546056</td>\n      <td>0.825251</td>\n      <td>0.794402</td>\n      <td>0.462146</td>\n    </tr>\n    <tr>\n      <th>cont10</th>\n      <td>0.741413</td>\n      <td>0.278495</td>\n      <td>0.832564</td>\n      <td>0.407313</td>\n      <td>0.325193</td>\n    </tr>\n    <tr>\n      <th>cont11</th>\n      <td>0.881122</td>\n      <td>0.440011</td>\n      <td>0.914155</td>\n      <td>0.934138</td>\n      <td>0.3826</td>\n    </tr>\n    <tr>\n      <th>cont12</th>\n      <td>0.217886</td>\n      <td>0.846127</td>\n      <td>0.81299</td>\n      <td>0.732893</td>\n      <td>0.354186</td>\n    </tr>\n    <tr>\n      <th>cont13</th>\n      <td>0.684968</td>\n      <td>0.014213</td>\n      <td>0.760122</td>\n      <td>0.771678</td>\n      <td>0.639349</td>\n    </tr>\n    <tr>\n      <th>cat0</th>\n      <td>C</td>\n      <td>A</td>\n      <td>C</td>\n      <td>G</td>\n      <td>C</td>\n    </tr>\n    <tr>\n      <th>cat1</th>\n      <td>A</td>\n      <td>A</td>\n      <td>A</td>\n      <td>A</td>\n      <td>A</td>\n    </tr>\n    <tr>\n      <th>cat2</th>\n      <td>B</td>\n      <td>B</td>\n      <td>B</td>\n      <td>B</td>\n      <td>B</td>\n    </tr>\n    <tr>\n      <th>cat3</th>\n      <td>A</td>\n      <td>A</td>\n      <td>A</td>\n      <td>A</td>\n      <td>A</td>\n    </tr>\n    <tr>\n      <th>cat4</th>\n      <td>A</td>\n      <td>B</td>\n      <td>A</td>\n      <td>A</td>\n      <td>A</td>\n    </tr>\n    <tr>\n      <th>cat5</th>\n      <td>I</td>\n      <td>F</td>\n      <td>N</td>\n      <td>K</td>\n      <td>F</td>\n    </tr>\n    <tr>\n      <th>cat6</th>\n      <td>E</td>\n      <td>E</td>\n      <td>B</td>\n      <td>E</td>\n      <td>E</td>\n    </tr>\n    <tr>\n      <th>cat7</th>\n      <td>D</td>\n      <td>B</td>\n      <td>D</td>\n      <td>D</td>\n      <td>B</td>\n    </tr>\n    <tr>\n      <th>cat8</th>\n      <td>A</td>\n      <td>A</td>\n      <td>C</td>\n      <td>C</td>\n      <td>A</td>\n    </tr>\n    <tr>\n      <th>cat9</th>\n      <td>B</td>\n      <td>A</td>\n      <td>A</td>\n      <td>A</td>\n      <td>B</td>\n    </tr>\n  </tbody>\n</table>\n</div>"
     },
     "execution_count": 22,
     "metadata": {},
     "output_type": "execute_result"
    }
   ],
   "source": [
    "X = train_df.loc[:, \"cont0\":\"cat9\"]\n",
    "y = train_df[\"target\"]\n",
    "X.head().T"
   ],
   "metadata": {
    "collapsed": false
   }
  },
  {
   "cell_type": "code",
   "execution_count": 23,
   "outputs": [],
   "source": [
    "X_train, X_valid, y_train, y_valid = train_test_split(X, y.values, test_size=0.2)\n",
    "\n",
    "feature_transformation = ColumnTransformer([\n",
    "    (\"cat\", Pipeline([(\"encoder\", OrdinalEncoder()), (\"scaler\", StandardScaler())]),\n",
    "     [f\"cat{i}\" for i in range(10)]),\n",
    "    (\"num\", StandardScaler(),\n",
    "     [f\"cont{i}\" for i in range(14)])\n",
    "\n",
    "])\n",
    "\n",
    "X_train_prepared = feature_transformation.fit_transform(X_train)\n",
    "X_valid_prepared = feature_transformation.transform(X_valid)"
   ],
   "metadata": {
    "collapsed": false
   }
  },
  {
   "cell_type": "code",
   "execution_count": 24,
   "outputs": [
    {
     "data": {
      "text/plain": "(array([[ 1.7209471 , -0.14133734, -0.02283337, ...,  1.84072055,\n          1.35967766, -1.68353232],\n        [-0.54231232, -0.14133734, -0.02283337, ..., -0.22478545,\n         -0.06653168, -1.65858686],\n        [-0.54231232, -0.14133734, -0.02283337, ...,  1.6998605 ,\n         -1.19928991,  1.03009869],\n        ...,\n        [ 0.58931739, -0.14133734, -0.02283337, ..., -0.58358994,\n         -0.31120149,  0.91445388],\n        [-0.54231232, -0.14133734, -0.02283337, ...,  0.29616504,\n         -0.30331425, -0.08130836],\n        [-1.67394203, -0.14133734, -0.02283337, ..., -0.20861256,\n          0.56086576, -1.55982575]]),\n array([[-1.67394203, -0.14133734, -0.02283337, ...,  1.79658069,\n          1.34738609,  0.46704159],\n        [-0.54231232, -0.14133734, -0.02283337, ..., -0.4754945 ,\n         -1.11299436, -1.96186313],\n        [-0.54231232, -0.14133734, -0.02283337, ..., -0.71173512,\n         -1.07744527,  0.59570969],\n        ...,\n        [-0.54231232, -0.14133734, -0.02283337, ..., -0.24351372,\n         -1.16196944,  1.05614117],\n        [-0.54231232, -0.14133734, -0.02283337, ...,  0.22534242,\n         -0.99770802, -0.66584162],\n        [ 0.58931739, -0.14133734, -0.02283337, ..., -1.10443648,\n         -1.04459627,  0.5997094 ]]),\n array([8.45633065, 7.7510939 , 7.96891565, ..., 8.18942598, 5.48810966,\n        7.57965849]),\n array([8.8261084 , 8.02092692, 6.30931149, ..., 8.18298474, 7.76505816,\n        6.8350663 ]))"
     },
     "execution_count": 24,
     "metadata": {},
     "output_type": "execute_result"
    }
   ],
   "source": [
    "X_train_prepared, X_valid_prepared, y_train, y_valid"
   ],
   "metadata": {
    "collapsed": false
   }
  },
  {
   "cell_type": "code",
   "execution_count": 25,
   "outputs": [
    {
     "name": "stdout",
     "output_type": "stream",
     "text": [
      "0:\tlearn: 0.8871093\ttotal: 4.41ms\tremaining: 44.1s\n",
      "100:\tlearn: 0.8643954\ttotal: 328ms\tremaining: 32.1s\n",
      "200:\tlearn: 0.8580469\ttotal: 632ms\tremaining: 30.8s\n",
      "300:\tlearn: 0.8546505\ttotal: 929ms\tremaining: 29.9s\n",
      "400:\tlearn: 0.8523592\ttotal: 1.23s\tremaining: 29.5s\n",
      "500:\tlearn: 0.8506920\ttotal: 1.53s\tremaining: 29.1s\n",
      "600:\tlearn: 0.8492886\ttotal: 1.84s\tremaining: 28.7s\n",
      "700:\tlearn: 0.8482068\ttotal: 2.14s\tremaining: 28.4s\n",
      "800:\tlearn: 0.8471955\ttotal: 2.44s\tremaining: 28s\n",
      "900:\tlearn: 0.8464054\ttotal: 2.75s\tremaining: 27.8s\n",
      "1000:\tlearn: 0.8456420\ttotal: 3.05s\tremaining: 27.4s\n",
      "1100:\tlearn: 0.8449951\ttotal: 3.35s\tremaining: 27.1s\n",
      "1200:\tlearn: 0.8444095\ttotal: 3.65s\tremaining: 26.7s\n",
      "1300:\tlearn: 0.8438426\ttotal: 3.95s\tremaining: 26.4s\n",
      "1400:\tlearn: 0.8433473\ttotal: 4.25s\tremaining: 26.1s\n",
      "1500:\tlearn: 0.8429127\ttotal: 4.58s\tremaining: 26s\n",
      "1600:\tlearn: 0.8424737\ttotal: 5s\tremaining: 26.2s\n",
      "1700:\tlearn: 0.8420731\ttotal: 5.39s\tremaining: 26.3s\n",
      "1800:\tlearn: 0.8416912\ttotal: 5.74s\tremaining: 26.1s\n",
      "1900:\tlearn: 0.8413344\ttotal: 6.06s\tremaining: 25.8s\n",
      "2000:\tlearn: 0.8409851\ttotal: 6.4s\tremaining: 25.6s\n",
      "2100:\tlearn: 0.8406582\ttotal: 6.77s\tremaining: 25.4s\n",
      "2200:\tlearn: 0.8403404\ttotal: 7.11s\tremaining: 25.2s\n",
      "2300:\tlearn: 0.8400331\ttotal: 7.42s\tremaining: 24.8s\n",
      "2400:\tlearn: 0.8397404\ttotal: 7.72s\tremaining: 24.4s\n",
      "2500:\tlearn: 0.8394490\ttotal: 8.03s\tremaining: 24.1s\n",
      "2600:\tlearn: 0.8391614\ttotal: 8.33s\tremaining: 23.7s\n",
      "2700:\tlearn: 0.8388949\ttotal: 8.63s\tremaining: 23.3s\n",
      "2800:\tlearn: 0.8386314\ttotal: 8.94s\tremaining: 23s\n",
      "2900:\tlearn: 0.8383679\ttotal: 9.25s\tremaining: 22.6s\n",
      "3000:\tlearn: 0.8381281\ttotal: 9.56s\tremaining: 22.3s\n",
      "3100:\tlearn: 0.8378852\ttotal: 9.89s\tremaining: 22s\n",
      "3200:\tlearn: 0.8376399\ttotal: 10.2s\tremaining: 21.7s\n",
      "3300:\tlearn: 0.8373941\ttotal: 10.6s\tremaining: 21.4s\n",
      "3400:\tlearn: 0.8371593\ttotal: 10.9s\tremaining: 21.1s\n",
      "3500:\tlearn: 0.8369305\ttotal: 11.2s\tremaining: 20.8s\n",
      "3600:\tlearn: 0.8366955\ttotal: 11.5s\tremaining: 20.5s\n",
      "3700:\tlearn: 0.8364789\ttotal: 11.9s\tremaining: 20.2s\n",
      "3800:\tlearn: 0.8362569\ttotal: 12.2s\tremaining: 19.9s\n",
      "3900:\tlearn: 0.8360426\ttotal: 12.5s\tremaining: 19.6s\n",
      "4000:\tlearn: 0.8358301\ttotal: 12.9s\tremaining: 19.3s\n",
      "4100:\tlearn: 0.8356257\ttotal: 13.2s\tremaining: 19s\n",
      "4200:\tlearn: 0.8354200\ttotal: 13.5s\tremaining: 18.7s\n",
      "4300:\tlearn: 0.8352101\ttotal: 13.9s\tremaining: 18.4s\n",
      "4400:\tlearn: 0.8350044\ttotal: 14.2s\tremaining: 18.1s\n",
      "4500:\tlearn: 0.8348067\ttotal: 14.5s\tremaining: 17.8s\n",
      "4600:\tlearn: 0.8346047\ttotal: 14.9s\tremaining: 17.5s\n",
      "4700:\tlearn: 0.8344141\ttotal: 15.2s\tremaining: 17.1s\n",
      "4800:\tlearn: 0.8342166\ttotal: 15.5s\tremaining: 16.8s\n",
      "4900:\tlearn: 0.8340219\ttotal: 15.9s\tremaining: 16.5s\n",
      "5000:\tlearn: 0.8338309\ttotal: 16.2s\tremaining: 16.2s\n",
      "5100:\tlearn: 0.8336479\ttotal: 16.5s\tremaining: 15.9s\n",
      "5200:\tlearn: 0.8334572\ttotal: 16.9s\tremaining: 15.6s\n",
      "5300:\tlearn: 0.8332703\ttotal: 17.2s\tremaining: 15.2s\n",
      "5400:\tlearn: 0.8330892\ttotal: 17.5s\tremaining: 14.9s\n",
      "5500:\tlearn: 0.8329036\ttotal: 17.9s\tremaining: 14.6s\n",
      "5600:\tlearn: 0.8327231\ttotal: 18.2s\tremaining: 14.3s\n",
      "5700:\tlearn: 0.8325426\ttotal: 18.5s\tremaining: 14s\n",
      "5800:\tlearn: 0.8323655\ttotal: 18.9s\tremaining: 13.6s\n",
      "5900:\tlearn: 0.8321914\ttotal: 19.2s\tremaining: 13.3s\n",
      "6000:\tlearn: 0.8320139\ttotal: 19.5s\tremaining: 13s\n",
      "6100:\tlearn: 0.8318397\ttotal: 19.9s\tremaining: 12.7s\n",
      "6200:\tlearn: 0.8316642\ttotal: 20.2s\tremaining: 12.4s\n",
      "6300:\tlearn: 0.8314914\ttotal: 20.5s\tremaining: 12s\n",
      "6400:\tlearn: 0.8313205\ttotal: 20.9s\tremaining: 11.7s\n",
      "6500:\tlearn: 0.8311524\ttotal: 21.2s\tremaining: 11.4s\n",
      "6600:\tlearn: 0.8309788\ttotal: 21.5s\tremaining: 11.1s\n",
      "6700:\tlearn: 0.8308046\ttotal: 21.9s\tremaining: 10.8s\n",
      "6800:\tlearn: 0.8306398\ttotal: 22.2s\tremaining: 10.4s\n",
      "6900:\tlearn: 0.8304755\ttotal: 22.5s\tremaining: 10.1s\n",
      "7000:\tlearn: 0.8303083\ttotal: 22.9s\tremaining: 9.79s\n",
      "7100:\tlearn: 0.8301415\ttotal: 23.2s\tremaining: 9.47s\n",
      "7200:\tlearn: 0.8299755\ttotal: 23.5s\tremaining: 9.14s\n",
      "7300:\tlearn: 0.8298095\ttotal: 23.9s\tremaining: 8.82s\n",
      "7400:\tlearn: 0.8296441\ttotal: 24.2s\tremaining: 8.49s\n",
      "7500:\tlearn: 0.8294845\ttotal: 24.5s\tremaining: 8.17s\n",
      "7600:\tlearn: 0.8293244\ttotal: 24.8s\tremaining: 7.84s\n",
      "7700:\tlearn: 0.8291646\ttotal: 25.2s\tremaining: 7.51s\n",
      "7800:\tlearn: 0.8290036\ttotal: 25.5s\tremaining: 7.19s\n",
      "7900:\tlearn: 0.8288459\ttotal: 25.8s\tremaining: 6.86s\n",
      "8000:\tlearn: 0.8286912\ttotal: 26.2s\tremaining: 6.54s\n",
      "8100:\tlearn: 0.8285333\ttotal: 26.5s\tremaining: 6.21s\n",
      "8200:\tlearn: 0.8283753\ttotal: 26.8s\tremaining: 5.88s\n",
      "8300:\tlearn: 0.8282228\ttotal: 27.2s\tremaining: 5.56s\n",
      "8400:\tlearn: 0.8280665\ttotal: 27.5s\tremaining: 5.24s\n",
      "8500:\tlearn: 0.8279123\ttotal: 27.8s\tremaining: 4.91s\n",
      "8600:\tlearn: 0.8277572\ttotal: 28.2s\tremaining: 4.58s\n",
      "8700:\tlearn: 0.8276014\ttotal: 28.5s\tremaining: 4.26s\n",
      "8800:\tlearn: 0.8274504\ttotal: 28.8s\tremaining: 3.93s\n",
      "8900:\tlearn: 0.8273011\ttotal: 29.2s\tremaining: 3.6s\n",
      "9000:\tlearn: 0.8271497\ttotal: 29.5s\tremaining: 3.27s\n",
      "9100:\tlearn: 0.8269991\ttotal: 29.8s\tremaining: 2.95s\n",
      "9200:\tlearn: 0.8268456\ttotal: 30.2s\tremaining: 2.62s\n",
      "9300:\tlearn: 0.8266963\ttotal: 30.5s\tremaining: 2.29s\n",
      "9400:\tlearn: 0.8265491\ttotal: 30.8s\tremaining: 1.97s\n",
      "9500:\tlearn: 0.8263973\ttotal: 31.2s\tremaining: 1.64s\n",
      "9600:\tlearn: 0.8262445\ttotal: 31.5s\tremaining: 1.31s\n",
      "9700:\tlearn: 0.8260944\ttotal: 31.8s\tremaining: 981ms\n",
      "9800:\tlearn: 0.8259488\ttotal: 32.2s\tremaining: 653ms\n",
      "9900:\tlearn: 0.8257974\ttotal: 32.5s\tremaining: 325ms\n",
      "9999:\tlearn: 0.8256546\ttotal: 32.8s\tremaining: 0us\n"
     ]
    },
    {
     "data": {
      "text/plain": "array([7.42732928, 7.42591028, 7.39812534, ..., 7.39247794, 7.25004955,\n       7.41675727])"
     },
     "execution_count": 25,
     "metadata": {},
     "output_type": "execute_result"
    }
   ],
   "source": [
    "model_params = {\n",
    "    \"task_type\": \"GPU\",\n",
    "    \"devices\": \"0\",\n",
    "    \"loss_function\": \"RMSE\",\n",
    "    \"n_estimators\": 10000,\n",
    "    \"learning_rate\": 0.03628302216953097,\n",
    "    \"reg_lambda\": 0.0008746338866473539,\n",
    "    \"subsample\": 0.7875490025178415,\n",
    "    \"max_depth\": 3,\n",
    "    \"bootstrap_type\": \"Bernoulli\"\n",
    "}\n",
    "model = CatBoostRegressor(**model_params)\n",
    "model.fit(X_train_prepared, y_train, verbose=100)\n",
    "\n",
    "model.predict(X_train_prepared)"
   ],
   "metadata": {
    "collapsed": false
   }
  },
  {
   "cell_type": "code",
   "execution_count": 26,
   "outputs": [
    {
     "data": {
      "text/plain": "array([7.35006864, 7.40201455, 7.06164413, ..., 7.38502877, 7.32354603,\n       7.72309742])"
     },
     "execution_count": 26,
     "metadata": {},
     "output_type": "execute_result"
    }
   ],
   "source": [
    "y_pred = model.predict(X_valid_prepared)\n",
    "y_pred"
   ],
   "metadata": {
    "collapsed": false
   }
  },
  {
   "cell_type": "code",
   "execution_count": 27,
   "outputs": [
    {
     "data": {
      "text/plain": "       Errors\nMAE  0.842187\nMSE  0.709279\nR^2  0.093628",
      "text/html": "<div>\n<style scoped>\n    .dataframe tbody tr th:only-of-type {\n        vertical-align: middle;\n    }\n\n    .dataframe tbody tr th {\n        vertical-align: top;\n    }\n\n    .dataframe thead th {\n        text-align: right;\n    }\n</style>\n<table border=\"1\" class=\"dataframe\">\n  <thead>\n    <tr style=\"text-align: right;\">\n      <th></th>\n      <th>Errors</th>\n    </tr>\n  </thead>\n  <tbody>\n    <tr>\n      <th>MAE</th>\n      <td>0.842187</td>\n    </tr>\n    <tr>\n      <th>MSE</th>\n      <td>0.709279</td>\n    </tr>\n    <tr>\n      <th>R^2</th>\n      <td>0.093628</td>\n    </tr>\n  </tbody>\n</table>\n</div>"
     },
     "execution_count": 27,
     "metadata": {},
     "output_type": "execute_result"
    }
   ],
   "source": [
    "pd.DataFrame.from_dict({\n",
    "    \"MAE\": mean_squared_error(y_valid, y_pred, squared=False),\n",
    "    \"MSE\": mean_squared_error(y_valid, y_pred, squared=True),\n",
    "    \"R^2\": r2_score(y_valid, y_pred)\n",
    "}, orient=\"index\", columns=[\"Errors\"])"
   ],
   "metadata": {
    "collapsed": false
   }
  },
  {
   "cell_type": "code",
   "execution_count": 28,
   "outputs": [],
   "source": [
    "test_df_prepared = feature_transformation.transform(test_df)\n",
    "target_pred = model.predict(test_df_prepared)\n",
    "\n",
    "output = pd.DataFrame({'Id': test_df.index,\n",
    "                       'target': target_pred})\n",
    "\n",
    "output.to_csv('../Submission_output/submission1.csv', index=False)"
   ],
   "metadata": {
    "collapsed": false
   }
  },
  {
   "cell_type": "code",
   "execution_count": null,
   "outputs": [],
   "source": [],
   "metadata": {
    "collapsed": false
   }
  }
 ],
 "metadata": {
  "kernelspec": {
   "display_name": "Python 3",
   "language": "python",
   "name": "python3"
  },
  "language_info": {
   "codemirror_mode": {
    "name": "ipython",
    "version": 2
   },
   "file_extension": ".py",
   "mimetype": "text/x-python",
   "name": "python",
   "nbconvert_exporter": "python",
   "pygments_lexer": "ipython2",
   "version": "2.7.6"
  }
 },
 "nbformat": 4,
 "nbformat_minor": 0
}
