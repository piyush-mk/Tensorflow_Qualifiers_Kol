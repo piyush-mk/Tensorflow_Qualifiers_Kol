{
 "cells": [
  {
   "cell_type": "code",
   "execution_count": 10,
   "outputs": [],
   "source": [
    "from autoxgb import AutoXGB\n",
    "# Input tabular data and output artifacts\n",
    "train_filename = \"../Dataset/train.csv\"\n",
    "output = \"../auto1output\"\n",
    "\n",
    "# optional parameters\n",
    "test_filename = \"../Dataset/test.csv\"\n",
    "task =  \"regression\"\n",
    "idx = None\n",
    "targets = [\"target\"]\n",
    "features = None\n",
    "categorical_features = None\n",
    "use_gpu = True\n",
    "num_folds = 10\n",
    "seed = 98200\n",
    "num_trials = 1500\n",
    "time_limit = 3600\n",
    "fast = False"
   ],
   "metadata": {
    "collapsed": false
   }
  },
  {
   "cell_type": "code",
   "execution_count": null,
   "outputs": [
    {
     "name": "stderr",
     "output_type": "stream",
     "text": [
      "2022-12-09 16:39:09.529 | INFO     | autoxgb.autoxgb:__post_init__:42 - Output directory: ../auto1output\n",
      "2022-12-09 16:39:09.530 | WARNING  | autoxgb.autoxgb:__post_init__:49 - No id column specified. Will default to `id`.\n",
      "2022-12-09 16:39:09.531 | INFO     | autoxgb.autoxgb:_process_data:149 - Reading training data\n",
      "2022-12-09 16:39:10.384 | INFO     | autoxgb.utils:reduce_memory_usage:48 - Mem. usage decreased to 32.62 Mb (45.2% reduction)\n",
      "2022-12-09 16:39:10.385 | INFO     | autoxgb.autoxgb:_determine_problem_type:140 - Problem type: single_column_regression\n",
      "2022-12-09 16:39:10.901 | INFO     | autoxgb.utils:reduce_memory_usage:48 - Mem. usage decreased to 21.36 Mb (44.0% reduction)\n",
      "2022-12-09 16:39:10.902 | INFO     | autoxgb.autoxgb:_create_folds:58 - Creating folds\n",
      "C:\\Users\\Piyush\\anaconda3\\envs\\MLnewConda\\lib\\site-packages\\sklearn\\model_selection\\_split.py:676: UserWarning: The least populated class in y has only 1 members, which is less than n_splits=10.\n",
      "  warnings.warn(\n",
      "2022-12-09 16:39:11.035 | INFO     | autoxgb.autoxgb:_process_data:195 - Found 10 categorical features.\n",
      "2022-12-09 16:39:11.036 | INFO     | autoxgb.autoxgb:_process_data:198 - Encoding categorical features\n",
      "2022-12-09 16:39:20.893 | INFO     | autoxgb.autoxgb:_process_data:236 - Model config: train_filename='../Dataset/train.csv' test_filename='../Dataset/test.csv' idx='id' targets=['target'] problem_type=<ProblemType.single_column_regression: 4> output='../auto1output' features=['cont0', 'cont1', 'cont2', 'cont3', 'cont4', 'cont5', 'cont6', 'cont7', 'cont8', 'cont9', 'cont10', 'cont11', 'cont12', 'cont13', 'cat0', 'cat1', 'cat2', 'cat3', 'cat4', 'cat5', 'cat6', 'cat7', 'cat8', 'cat9'] num_folds=10 use_gpu=True seed=98200 categorical_features=['cat0', 'cat1', 'cat2', 'cat3', 'cat4', 'cat5', 'cat6', 'cat7', 'cat8', 'cat9'] num_trials=1500 time_limit=3600 fast=False\n",
      "2022-12-09 16:39:20.894 | INFO     | autoxgb.autoxgb:_process_data:237 - Saving model config\n",
      "2022-12-09 16:39:20.895 | INFO     | autoxgb.autoxgb:_process_data:241 - Saving encoders\n",
      "\u001B[32m[I 2022-12-09 16:39:21,059]\u001B[0m A new study created in RDB with name: autoxgb\u001B[0m\n",
      "2022-12-09 16:40:52.837 | INFO     | autoxgb.utils:optimize:192 - Metrics: {'r2': 0.09643033483288252, 'mse': 0.7113669872283935, 'mae': 0.7047632157802581, 'rmse': 0.8434241652488709}\n",
      "\u001B[32m[I 2022-12-09 16:40:52,883]\u001B[0m Trial 0 finished with value: 0.8434241652488709 and parameters: {'learning_rate': 0.05469843829757996, 'reg_lambda': 0.00040869474532976213, 'reg_alpha': 0.0004024234173327876, 'subsample': 0.9948470267607286, 'colsample_bytree': 0.8784905461617656, 'max_depth': 4, 'early_stopping_rounds': 478, 'n_estimators': 20000}. Best is trial 0 with value: 0.8434241652488709.\u001B[0m\n",
      "2022-12-09 16:43:13.662 | INFO     | autoxgb.utils:optimize:192 - Metrics: {'r2': 0.0852356067468164, 'mse': 0.7201821804046631, 'mae': 0.7084296941757202, 'rmse': 0.8486344218254089}\n",
      "\u001B[32m[I 2022-12-09 16:43:13,701]\u001B[0m Trial 1 finished with value: 0.8486344218254089 and parameters: {'learning_rate': 0.19343449782577357, 'reg_lambda': 1.2533264527045214, 'reg_alpha': 2.7946533395377525e-08, 'subsample': 0.8816754550725701, 'colsample_bytree': 0.770236357360398, 'max_depth': 8, 'early_stopping_rounds': 300, 'n_estimators': 7000}. Best is trial 0 with value: 0.8434241652488709.\u001B[0m\n",
      "2022-12-09 16:46:06.694 | INFO     | autoxgb.utils:optimize:192 - Metrics: {'r2': 0.09061414775733119, 'mse': 0.7159464180469512, 'mae': 0.7068997025489807, 'rmse': 0.8461351990699768}\n",
      "\u001B[32m[I 2022-12-09 16:46:06,739]\u001B[0m Trial 2 finished with value: 0.8461351990699768 and parameters: {'learning_rate': 0.05790976769893634, 'reg_lambda': 1.0076748999948006e-06, 'reg_alpha': 9.715833985915797e-07, 'subsample': 0.15158490486951023, 'colsample_bytree': 0.9974955983790748, 'max_depth': 1, 'early_stopping_rounds': 300, 'n_estimators': 7000}. Best is trial 0 with value: 0.8434241652488709.\u001B[0m\n"
     ]
    }
   ],
   "source": [
    "axgb = AutoXGB(\n",
    "    train_filename=train_filename,\n",
    "    output=output,\n",
    "    test_filename=test_filename,\n",
    "    task=task,\n",
    "    idx=idx,\n",
    "    targets=targets,\n",
    "    features=features,\n",
    "    categorical_features=categorical_features,\n",
    "    use_gpu=use_gpu,\n",
    "    num_folds=num_folds,\n",
    "    seed=seed,\n",
    "    num_trials=num_trials,\n",
    "    time_limit=time_limit,\n",
    "    fast=fast,\n",
    ")\n",
    "axgb.train()"
   ],
   "metadata": {
    "collapsed": false,
    "pycharm": {
     "is_executing": true
    }
   }
  }
 ],
 "metadata": {
  "kernelspec": {
   "display_name": "Python 3",
   "language": "python",
   "name": "python3"
  },
  "language_info": {
   "codemirror_mode": {
    "name": "ipython",
    "version": 2
   },
   "file_extension": ".py",
   "mimetype": "text/x-python",
   "name": "python",
   "nbconvert_exporter": "python",
   "pygments_lexer": "ipython2",
   "version": "2.7.6"
  }
 },
 "nbformat": 4,
 "nbformat_minor": 0
}
