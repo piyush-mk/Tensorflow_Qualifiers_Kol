{
 "cells": [
  {
   "cell_type": "code",
   "execution_count": 1,
   "outputs": [
    {
     "name": "stderr",
     "output_type": "stream",
     "text": [
      "\u001B[32m2022-12-09 17:44:58.328\u001B[0m | \u001B[1mINFO    \u001B[0m | \u001B[36mautoxgb.autoxgb\u001B[0m:\u001B[36m__post_init__\u001B[0m:\u001B[36m42\u001B[0m - \u001B[1mOutput directory: ../auto1\u001B[0m\n",
      "\u001B[32m2022-12-09 17:44:58.328\u001B[0m | \u001B[1mINFO    \u001B[0m | \u001B[36mautoxgb.autoxgb\u001B[0m:\u001B[36m_process_data\u001B[0m:\u001B[36m149\u001B[0m - \u001B[1mReading training data\u001B[0m\n",
      "\u001B[32m2022-12-09 17:44:59.212\u001B[0m | \u001B[1mINFO    \u001B[0m | \u001B[36mautoxgb.utils\u001B[0m:\u001B[36mreduce_memory_usage\u001B[0m:\u001B[36m48\u001B[0m - \u001B[1mMem. usage decreased to 32.62 Mb (45.2% reduction)\u001B[0m\n",
      "\u001B[32m2022-12-09 17:44:59.213\u001B[0m | \u001B[1mINFO    \u001B[0m | \u001B[36mautoxgb.autoxgb\u001B[0m:\u001B[36m_determine_problem_type\u001B[0m:\u001B[36m140\u001B[0m - \u001B[1mProblem type: single_column_regression\u001B[0m\n",
      "\u001B[32m2022-12-09 17:44:59.788\u001B[0m | \u001B[1mINFO    \u001B[0m | \u001B[36mautoxgb.utils\u001B[0m:\u001B[36mreduce_memory_usage\u001B[0m:\u001B[36m48\u001B[0m - \u001B[1mMem. usage decreased to 21.36 Mb (44.0% reduction)\u001B[0m\n",
      "\u001B[32m2022-12-09 17:44:59.788\u001B[0m | \u001B[1mINFO    \u001B[0m | \u001B[36mautoxgb.autoxgb\u001B[0m:\u001B[36m_create_folds\u001B[0m:\u001B[36m58\u001B[0m - \u001B[1mCreating folds\u001B[0m\n",
      "C:\\Users\\Piyush\\anaconda3\\envs\\MLnewConda\\lib\\site-packages\\sklearn\\model_selection\\_split.py:676: UserWarning: The least populated class in y has only 1 members, which is less than n_splits=5.\n",
      "  warnings.warn(\n",
      "\u001B[32m2022-12-09 17:44:59.912\u001B[0m | \u001B[1mINFO    \u001B[0m | \u001B[36mautoxgb.autoxgb\u001B[0m:\u001B[36m_process_data\u001B[0m:\u001B[36m195\u001B[0m - \u001B[1mFound 10 categorical features.\u001B[0m\n",
      "\u001B[32m2022-12-09 17:44:59.912\u001B[0m | \u001B[1mINFO    \u001B[0m | \u001B[36mautoxgb.autoxgb\u001B[0m:\u001B[36m_process_data\u001B[0m:\u001B[36m198\u001B[0m - \u001B[1mEncoding categorical features\u001B[0m\n",
      "\u001B[32m2022-12-09 17:45:05.170\u001B[0m | \u001B[1mINFO    \u001B[0m | \u001B[36mautoxgb.autoxgb\u001B[0m:\u001B[36m_process_data\u001B[0m:\u001B[36m236\u001B[0m - \u001B[1mModel config: train_filename='../Dataset/train.csv' test_filename='../Dataset/test.csv' idx='id' targets=['target'] problem_type=<ProblemType.single_column_regression: 4> output='../auto1' features=['cont0', 'cont1', 'cont2', 'cont3', 'cont4', 'cont5', 'cont6', 'cont7', 'cont8', 'cont9', 'cont10', 'cont11', 'cont12', 'cont13', 'cat0', 'cat1', 'cat2', 'cat3', 'cat4', 'cat5', 'cat6', 'cat7', 'cat8', 'cat9'] num_folds=5 use_gpu=True seed=42 categorical_features=['cat0', 'cat1', 'cat2', 'cat3', 'cat4', 'cat5', 'cat6', 'cat7', 'cat8', 'cat9'] num_trials=1000 time_limit=360 fast=True\u001B[0m\n",
      "\u001B[32m2022-12-09 17:45:05.171\u001B[0m | \u001B[1mINFO    \u001B[0m | \u001B[36mautoxgb.autoxgb\u001B[0m:\u001B[36m_process_data\u001B[0m:\u001B[36m237\u001B[0m - \u001B[1mSaving model config\u001B[0m\n",
      "\u001B[32m2022-12-09 17:45:05.171\u001B[0m | \u001B[1mINFO    \u001B[0m | \u001B[36mautoxgb.autoxgb\u001B[0m:\u001B[36m_process_data\u001B[0m:\u001B[36m241\u001B[0m - \u001B[1mSaving encoders\u001B[0m\n",
      "\u001B[32m[I 2022-12-09 17:45:05,375]\u001B[0m A new study created in RDB with name: autoxgb\u001B[0m\n",
      "\u001B[32m2022-12-09 17:45:36.333\u001B[0m | \u001B[1mINFO    \u001B[0m | \u001B[36mautoxgb.utils\u001B[0m:\u001B[36moptimize\u001B[0m:\u001B[36m192\u001B[0m - \u001B[1mMetrics: {'r2': 0.09460554484684336, 'mse': 0.7127548456192017, 'mae': 0.7052049040794373, 'rmse': 0.8442481160163879}\u001B[0m\n",
      "\u001B[32m[I 2022-12-09 17:45:36,409]\u001B[0m Trial 0 finished with value: 0.8442481160163879 and parameters: {'learning_rate': 0.0649254117678712, 'reg_lambda': 0.6963276609964023, 'reg_alpha': 0.25680747534195625, 'subsample': 0.5841879949690791, 'colsample_bytree': 0.12205326284178174, 'max_depth': 7, 'early_stopping_rounds': 495, 'n_estimators': 20000}. Best is trial 0 with value: 0.8442481160163879.\u001B[0m\n",
      "\u001B[32m2022-12-09 17:45:52.722\u001B[0m | \u001B[1mINFO    \u001B[0m | \u001B[36mautoxgb.utils\u001B[0m:\u001B[36moptimize\u001B[0m:\u001B[36m192\u001B[0m - \u001B[1mMetrics: {'r2': 0.09706895816839467, 'mse': 0.7108154892921448, 'mae': 0.7043202519416809, 'rmse': 0.8430987596511841}\u001B[0m\n",
      "\u001B[32m[I 2022-12-09 17:45:52,760]\u001B[0m Trial 1 finished with value: 0.8430987596511841 and parameters: {'learning_rate': 0.07525367511888179, 'reg_lambda': 1.4154653406031898, 'reg_alpha': 2.0910904215334063e-08, 'subsample': 0.5478673668267006, 'colsample_bytree': 0.6263831513344622, 'max_depth': 3, 'early_stopping_rounds': 187, 'n_estimators': 20000}. Best is trial 1 with value: 0.8430987596511841.\u001B[0m\n",
      "\u001B[32m2022-12-09 17:46:09.167\u001B[0m | \u001B[1mINFO    \u001B[0m | \u001B[36mautoxgb.utils\u001B[0m:\u001B[36moptimize\u001B[0m:\u001B[36m192\u001B[0m - \u001B[1mMetrics: {'r2': 0.09425926386933481, 'mse': 0.7130273580551147, 'mae': 0.7055010795593262, 'rmse': 0.8444094657897949}\u001B[0m\n",
      "\u001B[32m[I 2022-12-09 17:46:09,225]\u001B[0m Trial 2 finished with value: 0.8444094657897949 and parameters: {'learning_rate': 0.11713915589356855, 'reg_lambda': 2.0164762333692193e-06, 'reg_alpha': 4.0690915537664825e-06, 'subsample': 0.9775237420111562, 'colsample_bytree': 0.2974506464380335, 'max_depth': 7, 'early_stopping_rounds': 298, 'n_estimators': 7000}. Best is trial 1 with value: 0.8430987596511841.\u001B[0m\n",
      "\u001B[32m2022-12-09 17:46:43.354\u001B[0m | \u001B[1mINFO    \u001B[0m | \u001B[36mautoxgb.utils\u001B[0m:\u001B[36moptimize\u001B[0m:\u001B[36m192\u001B[0m - \u001B[1mMetrics: {'r2': 0.09249876832712967, 'mse': 0.7144132852554321, 'mae': 0.7061577439308167, 'rmse': 0.8452297449111938}\u001B[0m\n",
      "\u001B[32m[I 2022-12-09 17:46:43,392]\u001B[0m Trial 3 finished with value: 0.8452297449111938 and parameters: {'learning_rate': 0.15519768065785514, 'reg_lambda': 6.863120818498119e-05, 'reg_alpha': 0.0014267298871734177, 'subsample': 0.38611777454580964, 'colsample_bytree': 0.9394899937080541, 'max_depth': 1, 'early_stopping_rounds': 477, 'n_estimators': 15000}. Best is trial 1 with value: 0.8430987596511841.\u001B[0m\n",
      "\u001B[32m2022-12-09 17:47:13.380\u001B[0m | \u001B[1mINFO    \u001B[0m | \u001B[36mautoxgb.utils\u001B[0m:\u001B[36moptimize\u001B[0m:\u001B[36m192\u001B[0m - \u001B[1mMetrics: {'r2': 0.09598222689421654, 'mse': 0.7116710543632507, 'mae': 0.7048581838607788, 'rmse': 0.8436059951782227}\u001B[0m\n",
      "\u001B[32m[I 2022-12-09 17:47:13,438]\u001B[0m Trial 4 finished with value: 0.8436059951782227 and parameters: {'learning_rate': 0.03449579005230533, 'reg_lambda': 10.410746164179177, 'reg_alpha': 2.0946489672714048e-05, 'subsample': 0.9384837186877405, 'colsample_bytree': 0.9578584667460617, 'max_depth': 6, 'early_stopping_rounds': 117, 'n_estimators': 7000}. Best is trial 1 with value: 0.8430987596511841.\u001B[0m\n",
      "\u001B[32m2022-12-09 17:48:10.995\u001B[0m | \u001B[1mINFO    \u001B[0m | \u001B[36mautoxgb.utils\u001B[0m:\u001B[36moptimize\u001B[0m:\u001B[36m192\u001B[0m - \u001B[1mMetrics: {'r2': 0.0960473042182114, 'mse': 0.7116197943687439, 'mae': 0.7047343254089355, 'rmse': 0.8435755968093872}\u001B[0m\n",
      "\u001B[32m[I 2022-12-09 17:48:11,036]\u001B[0m Trial 5 finished with value: 0.8435755968093872 and parameters: {'learning_rate': 0.02148647361166051, 'reg_lambda': 0.00040001578557460025, 'reg_alpha': 1.4461386072154176e-06, 'subsample': 0.6117049032078035, 'colsample_bytree': 0.6770236809201193, 'max_depth': 7, 'early_stopping_rounds': 319, 'n_estimators': 7000}. Best is trial 1 with value: 0.8430987596511841.\u001B[0m\n",
      "\u001B[32m2022-12-09 17:48:55.811\u001B[0m | \u001B[1mINFO    \u001B[0m | \u001B[36mautoxgb.utils\u001B[0m:\u001B[36moptimize\u001B[0m:\u001B[36m192\u001B[0m - \u001B[1mMetrics: {'r2': 0.08985559699262402, 'mse': 0.7164941430091858, 'mae': 0.7070814371109009, 'rmse': 0.8464597463607788}\u001B[0m\n",
      "\u001B[32m[I 2022-12-09 17:48:55,883]\u001B[0m Trial 6 finished with value: 0.8464597463607788 and parameters: {'learning_rate': 0.053373830575612374, 'reg_lambda': 0.00012552413351240454, 'reg_alpha': 0.0037403935288408963, 'subsample': 0.9365692197917561, 'colsample_bytree': 0.38044149536756733, 'max_depth': 1, 'early_stopping_rounds': 220, 'n_estimators': 7000}. Best is trial 1 with value: 0.8430987596511841.\u001B[0m\n",
      "\u001B[32m2022-12-09 17:49:02.716\u001B[0m | \u001B[1mINFO    \u001B[0m | \u001B[36mautoxgb.utils\u001B[0m:\u001B[36moptimize\u001B[0m:\u001B[36m192\u001B[0m - \u001B[1mMetrics: {'r2': 0.09299488965207936, 'mse': 0.7140228152275085, 'mae': 0.7054314613342285, 'rmse': 0.8449987173080444}\u001B[0m\n",
      "\u001B[32m[I 2022-12-09 17:49:02,801]\u001B[0m Trial 7 finished with value: 0.8449987173080444 and parameters: {'learning_rate': 0.21103162970923933, 'reg_lambda': 8.404609814055358e-06, 'reg_alpha': 1.29807108315998e-05, 'subsample': 0.922642506768895, 'colsample_bytree': 0.5353444621129295, 'max_depth': 5, 'early_stopping_rounds': 167, 'n_estimators': 7000}. Best is trial 1 with value: 0.8430987596511841.\u001B[0m\n",
      "\u001B[32m2022-12-09 17:49:26.435\u001B[0m | \u001B[1mINFO    \u001B[0m | \u001B[36mautoxgb.utils\u001B[0m:\u001B[36moptimize\u001B[0m:\u001B[36m192\u001B[0m - \u001B[1mMetrics: {'r2': 0.09552564559216281, 'mse': 0.7120304703712463, 'mae': 0.704757571220398, 'rmse': 0.8438189625740051}\u001B[0m\n",
      "\u001B[32m[I 2022-12-09 17:49:26,516]\u001B[0m Trial 8 finished with value: 0.8438189625740051 and parameters: {'learning_rate': 0.08152294414215168, 'reg_lambda': 4.099527256863421e-08, 'reg_alpha': 1.6326041608260578e-05, 'subsample': 0.978850977124624, 'colsample_bytree': 0.48703864094848415, 'max_depth': 6, 'early_stopping_rounds': 387, 'n_estimators': 7000}. Best is trial 1 with value: 0.8430987596511841.\u001B[0m\n",
      "\u001B[32m2022-12-09 17:50:13.659\u001B[0m | \u001B[1mINFO    \u001B[0m | \u001B[36mautoxgb.utils\u001B[0m:\u001B[36moptimize\u001B[0m:\u001B[36m192\u001B[0m - \u001B[1mMetrics: {'r2': 0.09806694096477508, 'mse': 0.7100299000740051, 'mae': 0.7039080262184143, 'rmse': 0.8426327109336853}\u001B[0m\n",
      "\u001B[32m[I 2022-12-09 17:50:13,701]\u001B[0m Trial 9 finished with value: 0.8426327109336853 and parameters: {'learning_rate': 0.026806163892481704, 'reg_lambda': 5.128784766853136e-05, 'reg_alpha': 0.913141014615502, 'subsample': 0.37009723326862276, 'colsample_bytree': 0.7205536156952637, 'max_depth': 3, 'early_stopping_rounds': 471, 'n_estimators': 20000}. Best is trial 9 with value: 0.8426327109336853.\u001B[0m\n",
      "\u001B[32m2022-12-09 17:50:57.841\u001B[0m | \u001B[1mINFO    \u001B[0m | \u001B[36mautoxgb.utils\u001B[0m:\u001B[36moptimize\u001B[0m:\u001B[36m192\u001B[0m - \u001B[1mMetrics: {'r2': 0.09721596276650601, 'mse': 0.7106997966766357, 'mae': 0.7041281461715698, 'rmse': 0.8430301547050476}\u001B[0m\n",
      "\u001B[32m[I 2022-12-09 17:50:57,883]\u001B[0m Trial 10 finished with value: 0.8430301547050476 and parameters: {'learning_rate': 0.013079857619007807, 'reg_lambda': 0.039976334670031075, 'reg_alpha': 24.6740909532954, 'subsample': 0.10342280543518062, 'colsample_bytree': 0.7700512573684775, 'max_depth': 3, 'early_stopping_rounds': 410, 'n_estimators': 20000}. Best is trial 9 with value: 0.8426327109336853.\u001B[0m\n",
      "\u001B[32m2022-12-09 17:52:37.510\u001B[0m | \u001B[1mINFO    \u001B[0m | \u001B[36mautoxgb.utils\u001B[0m:\u001B[36moptimize\u001B[0m:\u001B[36m192\u001B[0m - \u001B[1mMetrics: {'r2': 0.09724316772813035, 'mse': 0.7106783390045166, 'mae': 0.7042852640151978, 'rmse': 0.8430173993110657}\u001B[0m\n",
      "\u001B[32m[I 2022-12-09 17:52:37,568]\u001B[0m Trial 11 finished with value: 0.8430173993110657 and parameters: {'learning_rate': 0.010531938185807648, 'reg_lambda': 0.020060238766068477, 'reg_alpha': 96.11870004496217, 'subsample': 0.1571187147298172, 'colsample_bytree': 0.7848319193051527, 'max_depth': 3, 'early_stopping_rounds': 420, 'n_estimators': 20000}. Best is trial 9 with value: 0.8426327109336853.\u001B[0m\n",
      "\u001B[32m2022-12-09 17:52:37.576\u001B[0m | \u001B[1mINFO    \u001B[0m | \u001B[36mautoxgb.autoxgb\u001B[0m:\u001B[36mtrain\u001B[0m:\u001B[36m248\u001B[0m - \u001B[1mTraining complete\u001B[0m\n",
      "\u001B[32m2022-12-09 17:52:37.576\u001B[0m | \u001B[1mINFO    \u001B[0m | \u001B[36mautoxgb.autoxgb\u001B[0m:\u001B[36mpredict\u001B[0m:\u001B[36m252\u001B[0m - \u001B[1mCreating OOF and test predictions\u001B[0m\n",
      "\u001B[32m2022-12-09 17:52:37.576\u001B[0m | \u001B[1mINFO    \u001B[0m | \u001B[36mautoxgb.utils\u001B[0m:\u001B[36mpredict_model\u001B[0m:\u001B[36m238\u001B[0m - \u001B[1mTraining and predicting for fold 0\u001B[0m\n",
      "\u001B[32m2022-12-09 17:53:00.638\u001B[0m | \u001B[1mINFO    \u001B[0m | \u001B[36mautoxgb.utils\u001B[0m:\u001B[36mpredict_model\u001B[0m:\u001B[36m333\u001B[0m - \u001B[1mFold 0 done!\u001B[0m\n",
      "\u001B[32m2022-12-09 17:53:00.639\u001B[0m | \u001B[1mINFO    \u001B[0m | \u001B[36mautoxgb.utils\u001B[0m:\u001B[36mpredict_model\u001B[0m:\u001B[36m238\u001B[0m - \u001B[1mTraining and predicting for fold 1\u001B[0m\n",
      "\u001B[32m2022-12-09 17:53:20.156\u001B[0m | \u001B[1mINFO    \u001B[0m | \u001B[36mautoxgb.utils\u001B[0m:\u001B[36mpredict_model\u001B[0m:\u001B[36m333\u001B[0m - \u001B[1mFold 1 done!\u001B[0m\n",
      "\u001B[32m2022-12-09 17:53:20.156\u001B[0m | \u001B[1mINFO    \u001B[0m | \u001B[36mautoxgb.utils\u001B[0m:\u001B[36mpredict_model\u001B[0m:\u001B[36m238\u001B[0m - \u001B[1mTraining and predicting for fold 2\u001B[0m\n",
      "\u001B[32m2022-12-09 17:53:41.450\u001B[0m | \u001B[1mINFO    \u001B[0m | \u001B[36mautoxgb.utils\u001B[0m:\u001B[36mpredict_model\u001B[0m:\u001B[36m333\u001B[0m - \u001B[1mFold 2 done!\u001B[0m\n",
      "\u001B[32m2022-12-09 17:53:41.450\u001B[0m | \u001B[1mINFO    \u001B[0m | \u001B[36mautoxgb.utils\u001B[0m:\u001B[36mpredict_model\u001B[0m:\u001B[36m238\u001B[0m - \u001B[1mTraining and predicting for fold 3\u001B[0m\n",
      "\u001B[32m2022-12-09 17:54:00.525\u001B[0m | \u001B[1mINFO    \u001B[0m | \u001B[36mautoxgb.utils\u001B[0m:\u001B[36mpredict_model\u001B[0m:\u001B[36m333\u001B[0m - \u001B[1mFold 3 done!\u001B[0m\n",
      "\u001B[32m2022-12-09 17:54:00.526\u001B[0m | \u001B[1mINFO    \u001B[0m | \u001B[36mautoxgb.utils\u001B[0m:\u001B[36mpredict_model\u001B[0m:\u001B[36m238\u001B[0m - \u001B[1mTraining and predicting for fold 4\u001B[0m\n",
      "\u001B[32m2022-12-09 17:54:17.184\u001B[0m | \u001B[1mINFO    \u001B[0m | \u001B[36mautoxgb.utils\u001B[0m:\u001B[36mpredict_model\u001B[0m:\u001B[36m333\u001B[0m - \u001B[1mFold 4 done!\u001B[0m\n",
      "\u001B[32m2022-12-09 17:54:17.184\u001B[0m | \u001B[1mINFO    \u001B[0m | \u001B[36mautoxgb.utils\u001B[0m:\u001B[36mpredict_model\u001B[0m:\u001B[36m336\u001B[0m - \u001B[1mMetrics: {'r2': 0.09722309883467162, 'mse': 0.7107348918914795, 'mae': 0.7045918822288513, 'rmse': 0.8430500388145447}\u001B[0m\n"
     ]
    }
   ],
   "source": [
    "!autoxgb train \\\n",
    "    --train_filename ../Dataset/train.csv \\\n",
    "    --test_filename ../Dataset/test.csv \\\n",
    "    --idx id \\\n",
    "    --target target \\\n",
    "    --task regression \\\n",
    "    --time_limit 360 \\\n",
    "    --output ../auto1 \\\n",
    "    --use_gpu \\\n",
    "    --fast"
   ],
   "metadata": {
    "collapsed": false
   }
  },
  {
   "cell_type": "code",
   "execution_count": 2,
   "outputs": [],
   "source": [
    "import pandas as pd\n",
    "test_preds = pd.read_csv(\"../auto1/test_predictions.csv\")\n",
    "test_preds.to_csv(\"../Submission_output/submission2.csv\", index=False)"
   ],
   "metadata": {
    "collapsed": false
   }
  }
 ],
 "metadata": {
  "kernelspec": {
   "display_name": "Python 3",
   "language": "python",
   "name": "python3"
  },
  "language_info": {
   "codemirror_mode": {
    "name": "ipython",
    "version": 2
   },
   "file_extension": ".py",
   "mimetype": "text/x-python",
   "name": "python",
   "nbconvert_exporter": "python",
   "pygments_lexer": "ipython2",
   "version": "2.7.6"
  }
 },
 "nbformat": 4,
 "nbformat_minor": 0
}
